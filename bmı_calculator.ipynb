{
 "cells": [
  {
   "cell_type": "code",
   "execution_count": 15,
   "metadata": {},
   "outputs": [
    {
     "name": "stdout",
     "output_type": "stream",
     "text": [
      "BMI is:  22.34351559258195\n",
      "Fatih Furkan, your BMI is normal. Continue with a healthy lifestyle.\n"
     ]
    }
   ],
   "source": [
    "name = input(\"Enter you name: \")\n",
    "weight = int(input(\"Enter weight in kg: \"))\n",
    "height = float(input(\"Enter height in cm: \"))\n",
    "\n",
    "BMI = weight / (height/100)**2\n",
    "\n",
    "print(\"BMI is: \", bmi)\n",
    "\n",
    "if BMI > 0:\n",
    "    if BMI < (18.5):\n",
    "        print(name + \", your BMI is low. Pay attention to a more balanced diet.\")\n",
    "    elif BMI <= (24.9):\n",
    "        print(name + \", your BMI is normal. Continue with a healthy lifestyle.\")\n",
    "    elif BMI < (29.9):\n",
    "        print(name + \", your BMI is high. Engage in more exercise and reduce sedentary time.\")\n",
    "    elif BMI < (34.9):\n",
    "        print(name + \", your BMI indicates obesity. Consulting a professional may be beneficial for your health.\")\n",
    "    elif BMI < (39.9):\n",
    "        print(name + \", your BMI is severely obese. Seeking professional help is crucial for your health.\")\n",
    "    else:\n",
    "        print(name + \", your BMI is extremely high. Immediate professional assistance is recommended.\")\n",
    "else:\n",
    "    print(\"You did not enter valid input. Please enter correct values.\")"
   ]
  },
  {
   "cell_type": "markdown",
   "metadata": {},
   "source": [
    "Under 18.5 > Underweight Minimal\n",
    "\n",
    "18.5 - 24.9 > Normal Weight\tMinimal\n",
    "\n",
    "25 - 29.9 > Overweight Increased\n",
    "\n",
    "30 - 34.9 > Obese High\n",
    "\n",
    "35 - 39.9 > Severely Obese Very High\n",
    "\n",
    "40 and over > Morbidly Obese Extremely High"
   ]
  }
 ],
 "metadata": {
  "kernelspec": {
   "display_name": "Python 3",
   "language": "python",
   "name": "python3"
  },
  "language_info": {
   "codemirror_mode": {
    "name": "ipython",
    "version": 3
   },
   "file_extension": ".py",
   "mimetype": "text/x-python",
   "name": "python",
   "nbconvert_exporter": "python",
   "pygments_lexer": "ipython3",
   "version": "3.12.0"
  }
 },
 "nbformat": 4,
 "nbformat_minor": 2
}
